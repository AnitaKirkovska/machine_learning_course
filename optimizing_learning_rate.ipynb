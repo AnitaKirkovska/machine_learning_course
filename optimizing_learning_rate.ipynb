{
 "cells": [
  {
   "cell_type": "code",
   "execution_count": 1,
   "metadata": {},
   "outputs": [],
   "source": [
    "import ipywidgets as widgets\n",
    "import numpy as np\n",
    "import matplotlib.pyplot as plt\n",
    "%matplotlib inline"
   ]
  },
  {
   "cell_type": "code",
   "execution_count": 2,
   "metadata": {},
   "outputs": [],
   "source": [
    "left = 0.0\n",
    "right = 4.0\n",
    "samples = np.array([0.0])"
   ]
  },
  {
   "cell_type": "code",
   "execution_count": 3,
   "metadata": {},
   "outputs": [],
   "source": [
    "def loss(x):\n",
    "    return 2.0 * (x - 2.0)**2\n",
    "\n",
    "def loss_gradient(x):\n",
    "    return 4.0 * (x - 2.0)"
   ]
  },
  {
   "cell_type": "code",
   "execution_count": 4,
   "metadata": {},
   "outputs": [],
   "source": [
    "# hack to change default name \"Run interact\"\n",
    "widgets.interact_manual.opts['manual_name'] = 'Execute single step'"
   ]
  },
  {
   "cell_type": "code",
   "execution_count": 5,
   "metadata": {},
   "outputs": [
    {
     "data": {
      "application/vnd.jupyter.widget-view+json": {
       "model_id": "0f696471c4f445ffa67f14a5b84d1ab2",
       "version_major": 2,
       "version_minor": 0
      },
      "text/plain": [
       "interactive(children=(Text(value='0.01', description='learning_rate'), Button(description='Execute single step…"
      ]
     },
     "metadata": {},
     "output_type": "display_data"
    }
   ],
   "source": [
    "@widgets.interact_manual(learning_rate='0.01')\n",
    "def plot(learning_rate):\n",
    "    global samples\n",
    "    global left\n",
    "    global right\n",
    "    x = np.linspace(left, right)\n",
    "    fig, ax = plt.subplots(1, 1, figsize=(8, 6))\n",
    "    ax.grid(True)\n",
    "    ax.plot(x, loss(x))\n",
    "    colors = np.full(samples.shape, 0.5)\n",
    "    ax.scatter(samples, loss(samples), c=colors)\n",
    "    last_sample = samples[-1]\n",
    "    new_sample = last_sample - float(learning_rate) * loss_gradient(last_sample)\n",
    "    samples = np.append(samples, new_sample)\n",
    "    left = min(left, new_sample)\n",
    "    right = max(right, new_sample)"
   ]
  },
  {
   "cell_type": "code",
   "execution_count": null,
   "metadata": {},
   "outputs": [],
   "source": []
  }
 ],
 "metadata": {
  "kernelspec": {
   "display_name": "Python 3",
   "language": "python",
   "name": "python3"
  },
  "language_info": {
   "codemirror_mode": {
    "name": "ipython",
    "version": 3
   },
   "file_extension": ".py",
   "mimetype": "text/x-python",
   "name": "python",
   "nbconvert_exporter": "python",
   "pygments_lexer": "ipython3",
   "version": "3.6.5"
  }
 },
 "nbformat": 4,
 "nbformat_minor": 2
}
